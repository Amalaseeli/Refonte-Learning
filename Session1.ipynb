{
 "cells": [
  {
   "cell_type": "code",
   "execution_count": 2,
   "id": "b76863ca-3f37-44d7-8c4e-cc92496e1e5b",
   "metadata": {},
   "outputs": [],
   "source": [
    "import torch\n",
    "import torch.nn as nn "
   ]
  },
  {
   "cell_type": "code",
   "execution_count": 6,
   "id": "25cbffc7-a918-441a-9095-a4429d705cb3",
   "metadata": {},
   "outputs": [
    {
     "data": {
      "text/plain": [
       "'2.4.0'"
      ]
     },
     "execution_count": 6,
     "metadata": {},
     "output_type": "execute_result"
    }
   ],
   "source": [
    "torch.__version__"
   ]
  },
  {
   "cell_type": "code",
   "execution_count": 16,
   "id": "5ca505bd-d0c1-4a24-81a4-e806dbf4d5cc",
   "metadata": {},
   "outputs": [],
   "source": [
    "n_emb=64\n",
    "head_size=1\n",
    "\n",
    "class Head(nn.Module):\n",
    "    \n",
    "    '''one head in self attention'''\n",
    "\n",
    "    def __init__(self):\n",
    "        super().__init__()\n",
    "        self.key=nn.Linear(n_emb,head_size)\n",
    "        self.query=nn.Linear(n_emb,head_size)\n",
    "        self.value=nn.Linear(n_emb,head_size)\n",
    "        \n",
    "        self.register_buffer('trill', torch.trill(torch.ones(block_size,block_size))\n",
    "\n",
    "\n",
    "    \n",
    "    def forward(self,x):\n",
    "        batch, blocks, X = x.shape\n",
    "        key = self.key(x) # batch, block_size, X -- shape\n",
    "        query = self.query(x) # batch, block_size, X -- shape\n",
    "        weight = query @ key.transpose(-2, -1) * X ** (-0.5)\n",
    "        weight=weight.masked_fill(self.trill[:blocks, :blocks] ==0 , float('-inf'))\n",
    "        \n",
    "    "
   ]
  },
  {
   "cell_type": "code",
   "execution_count": 18,
   "id": "d0645fe9-a715-4534-b8af-190e7b01a9b0",
   "metadata": {},
   "outputs": [
    {
     "data": {
      "text/plain": [
       "Head(\n",
       "  (key): Linear(in_features=64, out_features=1, bias=True)\n",
       "  (query): Linear(in_features=64, out_features=1, bias=True)\n",
       "  (value): Linear(in_features=64, out_features=1, bias=True)\n",
       ")"
      ]
     },
     "execution_count": 18,
     "metadata": {},
     "output_type": "execute_result"
    }
   ],
   "source": [
    "Head()"
   ]
  },
  {
   "cell_type": "code",
   "execution_count": null,
   "id": "52e58e59-8d48-4032-9cb4-60c9d3ad6223",
   "metadata": {},
   "outputs": [],
   "source": [
    "class MultiHeadAttention():\n",
    "    '''multihead in self attention'''\n",
    "    pass"
   ]
  }
 ],
 "metadata": {
  "kernelspec": {
   "display_name": "Python 3 (ipykernel)",
   "language": "python",
   "name": "python3"
  },
  "language_info": {
   "codemirror_mode": {
    "name": "ipython",
    "version": 3
   },
   "file_extension": ".py",
   "mimetype": "text/x-python",
   "name": "python",
   "nbconvert_exporter": "python",
   "pygments_lexer": "ipython3",
   "version": "3.12.4"
  }
 },
 "nbformat": 4,
 "nbformat_minor": 5
}
